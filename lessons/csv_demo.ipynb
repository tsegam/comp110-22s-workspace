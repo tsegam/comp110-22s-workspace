{
 "cells": [
  {
   "cell_type": "markdown",
   "metadata": {},
   "source": [
    "# Working with CSV Data\n",
    "Comma-separated value files are commonly for sharing tables of data between systems.\n",
    "\n",
    "Programs like Microsoft Excel, Google Sheets, as well as popular data base systems can produce CSV files as exports and program, such as the one we will write today, have libraries for reading and processing data in from CSV files."
   ]
  },
  {
   "cell_type": "code",
   "execution_count": 21,
   "metadata": {},
   "outputs": [
    {
     "name": "stdout",
     "output_type": "stream",
     "text": [
      "Autreload of imported modules enables. Be sure to save your modules!\n"
     ]
    }
   ],
   "source": [
    "%reload_ext autoreload\n",
    "%autoreload 2\n",
    "print(\"Autreload of imported modules enables. Be sure to save your modules!\")"
   ]
  },
  {
   "cell_type": "markdown",
   "metadata": {},
   "source": [
    "## Importing Utility Functions\n",
    "\n",
    "Our helper functions will be located in `lessons/data_utils.py` and we will import the functions in the code cell below."
   ]
  },
  {
   "cell_type": "code",
   "execution_count": 6,
   "metadata": {},
   "outputs": [
    {
     "name": "stdout",
     "output_type": "stream",
     "text": [
      "First row:  {'date': '10/16', 'low': ' 56', 'high': ' 75'}\n",
      "All rows:   [{'date': '10/16', 'low': ' 56', 'high': ' 75'}, {'date': '10/17', 'low': ' 57', 'high': ' 76'}, {'date': '10/18', 'low': ' 62', 'high': ' 75'}, {'date': '10/19', 'low': ' 64', 'high': ' 79'}, {'date': '10/20', 'low': ' 32', 'high': ' 80'}]\n"
     ]
    },
    {
     "data": {
      "text/plain": [
       "[{'date': '10/16', 'low': ' 56', 'high': ' 75'},\n",
       " {'date': '10/17', 'low': ' 57', 'high': ' 76'},\n",
       " {'date': '10/18', 'low': ' 62', 'high': ' 75'},\n",
       " {'date': '10/19', 'low': ' 64', 'high': ' 79'},\n",
       " {'date': '10/20', 'low': ' 32', 'high': ' 80'}]"
      ]
     },
     "execution_count": 6,
     "metadata": {},
     "output_type": "execute_result"
    }
   ],
   "source": [
    "from data_utils import read_csv_rows\n",
    "\n",
    "data_file: str = \"../data/weather.csv\"\n",
    "data_table: list[dict[str, str]] = read_csv_rows(data_file)\n",
    "data_table\n",
    "\n",
    "print(f\"First row:  {data_table[0]}\") \n",
    "print(f\"All rows:   {data_table}\")\n",
    "data_table\n"
   ]
  },
  {
   "cell_type": "markdown",
   "metadata": {},
   "source": [
    "## Selecting the values of a single column with `column_values`\n"
   ]
  },
  {
   "cell_type": "code",
   "execution_count": 7,
   "metadata": {},
   "outputs": [
    {
     "data": {
      "text/plain": [
       "[' 56', ' 57', ' 62', ' 64', ' 32']"
      ]
     },
     "execution_count": 7,
     "metadata": {},
     "output_type": "execute_result"
    }
   ],
   "source": [
    "from data_utils import column_values\n",
    "\n",
    "dates: list[str] = column_values(data_table, \"low\")\n",
    "\n",
    "dates\n"
   ]
  },
  {
   "cell_type": "markdown",
   "metadata": {},
   "source": [
    " ## Convert a row-oriented table to a column-oriented \"table\""
   ]
  },
  {
   "cell_type": "code",
   "execution_count": 11,
   "metadata": {},
   "outputs": [
    {
     "data": {
      "text/plain": [
       "{'date': ['10/16', '10/17', '10/18', '10/19', '10/20'],\n",
       " 'low': [' 56', ' 57', ' 62', ' 64', ' 32'],\n",
       " 'high': [' 75', ' 76', ' 75', ' 79', ' 80']}"
      ]
     },
     "execution_count": 11,
     "metadata": {},
     "output_type": "execute_result"
    }
   ],
   "source": [
    "from data_utils import columnar\n",
    "\n",
    "column_table: dict[str, list[str]] = columnar(data_table)\n",
    "column_table\n",
    "\n",
    "from data_utils import select\n",
    "\n",
    "selected_data: dict[str, list[str]] = select(data_cols, [\"subject_race\", \"subject_sex\"])\n",
    "\n",
    "tabulate(head(selected_data, 10), selected_data.keys(), \"html\")"
   ]
  }
 ],
 "metadata": {
  "interpreter": {
   "hash": "949777d72b0d2535278d3dc13498b2535136f6dfe0678499012e853ee9abcab1"
  },
  "kernelspec": {
   "display_name": "Python 3.10.2 64-bit",
   "language": "python",
   "name": "python3"
  },
  "language_info": {
   "codemirror_mode": {
    "name": "ipython",
    "version": 3
   },
   "file_extension": ".py",
   "mimetype": "text/x-python",
   "name": "python",
   "nbconvert_exporter": "python",
   "pygments_lexer": "ipython3",
   "version": "3.10.2"
  },
  "orig_nbformat": 4
 },
 "nbformat": 4,
 "nbformat_minor": 2
}
